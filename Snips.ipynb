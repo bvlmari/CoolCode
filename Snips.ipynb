{
 "cells": [
  {
   "cell_type": "markdown",
   "metadata": {},
   "source": [
    "### Function that checks if there is a nested tuple inside another tuple and prints its contents"
   ]
  },
  {
   "cell_type": "code",
   "execution_count": 1,
   "metadata": {},
   "outputs": [],
   "source": [
    "# Create a nest tuple\n",
    "\n",
    "NestedT =(1, 2, (\"pop\", \"rock\") ,(3,4),(\"disco\",(1,2)))"
   ]
  },
  {
   "cell_type": "code",
   "execution_count": 2,
   "metadata": {},
   "outputs": [
    {
     "name": "stdout",
     "output_type": "stream",
     "text": [
      "Element  0 of Tuple:  1\n",
      "Element  1 of Tuple:  2\n",
      "Element  2 0 of Tuple:  pop\n",
      "Element  2 1 of Tuple:  rock\n",
      "Element  3 0 of Tuple:  3\n",
      "Element  3 1 of Tuple:  4\n",
      "Element  4 0 of Tuple:  disco\n",
      "Element  4 1 0 of Tuple:  1\n",
      "Element  4 1 1 of Tuple:  2\n"
     ]
    }
   ],
   "source": [
    "# Print element on each index, including nest indexes\n",
    "for x in range(len(NestedT)):\n",
    "    if type(NestedT[x])==type(NestedT):\n",
    "        for y in range(len(NestedT[x])):\n",
    "            if type(NestedT[x][y])==type(NestedT):\n",
    "                for z in range(len(NestedT[x][y])):\n",
    "                    print(\"Element \",x,y,z,\"of Tuple: \",   NestedT[x][y][z])\n",
    "            else:\n",
    "                print(\"Element \",x,y,\"of Tuple: \",   NestedT[x][y])\n",
    "    else:\n",
    "        print(\"Element \",x,\"of Tuple: \",NestedT[x])"
   ]
  },
  {
   "cell_type": "markdown",
   "metadata": {},
   "source": [
    "##### I think it can be optimized, but later."
   ]
  },
  {
   "cell_type": "markdown",
   "metadata": {},
   "source": [
    "### Convert to binary from decimal"
   ]
  },
  {
   "cell_type": "markdown",
   "metadata": {},
   "source": [
    "##### Pythons easy way"
   ]
  },
  {
   "cell_type": "code",
   "execution_count": 9,
   "metadata": {},
   "outputs": [
    {
     "name": "stdout",
     "output_type": "stream",
     "text": [
      "0b101110\n"
     ]
    }
   ],
   "source": [
    "dec = 46\n",
    "binum = bin(dec)\n",
    "print(binum)"
   ]
  },
  {
   "cell_type": "markdown",
   "metadata": {},
   "source": [
    "##### Manually"
   ]
  },
  {
   "cell_type": "code",
   "execution_count": 20,
   "metadata": {},
   "outputs": [
    {
     "name": "stdout",
     "output_type": "stream",
     "text": [
      "101110\n"
     ]
    }
   ],
   "source": [
    "dec = 46\n",
    "binum = []\n",
    "\n",
    "while dec > 0:\n",
    "    bp = str(dec%2)\n",
    "    binum.append(bp)\n",
    "    dec//=2\n",
    "\n",
    "binum.reverse()\n",
    "res = ''.join(binum)\n",
    "print(res)"
   ]
  },
  {
   "cell_type": "code",
   "execution_count": null,
   "metadata": {},
   "outputs": [],
   "source": []
  }
 ],
 "metadata": {
  "kernelspec": {
   "display_name": "Python 3",
   "language": "python",
   "name": "python3"
  },
  "language_info": {
   "codemirror_mode": {
    "name": "ipython",
    "version": 3
   },
   "file_extension": ".py",
   "mimetype": "text/x-python",
   "name": "python",
   "nbconvert_exporter": "python",
   "pygments_lexer": "ipython3",
   "version": "3.11.5"
  }
 },
 "nbformat": 4,
 "nbformat_minor": 2
}
